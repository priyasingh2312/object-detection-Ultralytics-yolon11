{
 "cells": [
  {
   "cell_type": "code",
   "execution_count": 2,
   "metadata": {},
   "outputs": [
    {
     "name": "stdout",
     "output_type": "stream",
     "text": [
      "\n",
      "0: 480x640 1 Car, 338.9ms\n",
      "Speed: 5.0ms preprocess, 338.9ms inference, 1.0ms postprocess per image at shape (1, 3, 480, 640)\n"
     ]
    }
   ],
   "source": [
    "import cv2\n",
    "import numpy as np\n",
    "from ultralytics import YOLO\n",
    "\n",
    "# Load YOLO model\n",
    "model = YOLO(\"D:/intenship/detection/env/vehicle_model.pt\")  # Update with your YOLO model path if needed\n",
    "\n",
    "# Load the image\n",
    "image_path = \"D:/intenship/detection/env/1.jpg\"  # Change to your image path\n",
    "image = cv2.imread(image_path)\n",
    "\n",
    "# Perform inference\n",
    "results = model(image)\n",
    "\n",
    "# Iterate over detections and plot bounding boxes\n",
    "for result in results:\n",
    "    for box in result.boxes.data:\n",
    "        x, y, w, h, confidence, class_id = box.cpu().numpy()  # Extract values\n",
    "        \n",
    "        # Convert to int\n",
    "        x, y, w, h = int(x), int(y), int(w), int(h)\n",
    "        class_id = int(class_id)\n",
    "\n",
    "        # Draw rectangle (bounding box)\n",
    "        color = (0, 255, 0)  # Green color for the box\n",
    "        thickness = 2\n",
    "        cv2.rectangle(image, (x, y), (x + w, y + h), color, thickness)\n",
    "\n",
    "        # Put class label and confidence score\n",
    "        label = f\"Class {class_id}: {confidence:.2f}\"\n",
    "        font = cv2.FONT_HERSHEY_SIMPLEX\n",
    "        cv2.putText(image, label, (x, y - 10), font, 0.5, color, thickness)\n",
    "\n",
    "# Display the image\n",
    "cv2.imshow(\"YOLO Detection\", image)\n",
    "cv2.waitKey(0)\n",
    "cv2.destroyAllWindows()\n"
   ]
  }
 ],
 "metadata": {
  "kernelspec": {
   "display_name": "env",
   "language": "python",
   "name": "python3"
  },
  "language_info": {
   "codemirror_mode": {
    "name": "ipython",
    "version": 3
   },
   "file_extension": ".py",
   "mimetype": "text/x-python",
   "name": "python",
   "nbconvert_exporter": "python",
   "pygments_lexer": "ipython3",
   "version": "3.11.2"
  }
 },
 "nbformat": 4,
 "nbformat_minor": 2
}
