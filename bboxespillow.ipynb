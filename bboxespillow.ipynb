{
 "cells": [
  {
   "cell_type": "code",
   "execution_count": 9,
   "metadata": {},
   "outputs": [],
   "source": [
    "from PIL import Image, ImageDraw  #import the pillow library..\n",
    "\n",
    "# Load the image\n",
    "image = Image.open(\"D:/intenship/detection/env/tricy.jpg\")\n",
    "image_width, image_height = image.size  # Get image dimensions\n",
    "\n",
    "# Path to the text file containing the normalized YOLO coordinates\n",
    "txt_path = \"D:/intenship/detection/env/bboxes.txt\"\n",
    "\n",
    "# Open and read the coordinates from the text file\n",
    "with open(txt_path, \"r\") as file:\n",
    "    lines = file.readlines()  #this will read the co-ordinates line by line..\n",
    "\n",
    "# Create a drawing context\n",
    "draw = ImageDraw.Draw(image)  #getting the reference of the object for the image in the memory..\n",
    "\n",
    "# Loop through each line in the file and extract the coordinates\n",
    "for line in lines:\n",
    "    # Split the line into values (class label, x_center, y_center, width, height !!!BY DEFAULT FOR YOLO)\n",
    "    data = line.strip().split()\n",
    "    \n",
    "    # Extract the coordinates and convert them to floats\n",
    "    class_id = int(data[0])  # Class ID (not used in drawing, but you can use it for color or label)\n",
    "    x_center, y_center, width, height = map(float, data[1:])\n",
    "    \n",
    "    # Convert normalized coordinates to pixel values\n",
    "    x1 = (x_center - width / 2) * image_width\n",
    "    y1 = (y_center - height / 2) * image_height\n",
    "    x2 = (x_center + width / 2) * image_width\n",
    "    y2 = (y_center + height / 2) * image_height\n",
    "    \n",
    "    # Define the rectangle (as a polygon)\n",
    "    coordinates = [(x1, y1), (x2, y1), (x2, y2), (x1, y2)]\n",
    "    \n",
    "    # Draw the rectangle (polygon) on the image\n",
    "    draw.polygon(coordinates, outline=\"red\", fill=None)  # You can change \"red\" to other colors\n",
    "\n",
    "# Show the image with all plotted coordinates\n",
    "image.show()\n",
    "\n",
    "# Optionally, save the image with the plotted coordinates\n",
    "image.save(\"D:/intenship/detection/env/sample_data.jpg\")"
   ]
  }
 ],
 "metadata": {
  "kernelspec": {
   "display_name": "env",
   "language": "python",
   "name": "python3"
  },
  "language_info": {
   "codemirror_mode": {
    "name": "ipython",
    "version": 3
   },
   "file_extension": ".py",
   "mimetype": "text/x-python",
   "name": "python",
   "nbconvert_exporter": "python",
   "pygments_lexer": "ipython3",
   "version": "3.11.2"
  }
 },
 "nbformat": 4,
 "nbformat_minor": 2
}
